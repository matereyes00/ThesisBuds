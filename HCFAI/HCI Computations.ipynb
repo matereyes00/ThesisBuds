{
 "cells": [
  {
   "cell_type": "code",
   "execution_count": 1,
   "metadata": {},
   "outputs": [
    {
     "name": "stdout",
     "output_type": "stream",
     "text": [
      "hello world\n"
     ]
    }
   ],
   "source": [
    "print('hello world')"
   ]
  },
  {
   "cell_type": "code",
   "execution_count": 2,
   "metadata": {},
   "outputs": [],
   "source": [
    "import pandas as pd"
   ]
  },
  {
   "cell_type": "code",
   "execution_count": null,
   "metadata": {},
   "outputs": [],
   "source": [
    "df = pd.read_csv('FINAL SUPER.csv')\n",
    "print(df)"
   ]
  },
  {
   "cell_type": "markdown",
   "metadata": {},
   "source": [
    "## Get columns"
   ]
  },
  {
   "cell_type": "code",
   "execution_count": null,
   "metadata": {},
   "outputs": [],
   "source": [
    "pop_den = df.loc[:,\"POPULATION DENSITY PER HEXAGON\"]\n",
    "pop_den"
   ]
  },
  {
   "cell_type": "code",
   "execution_count": null,
   "metadata": {},
   "outputs": [],
   "source": [
    "rhu_exists = df.loc[:,\"RHU\"]\n",
    "rhu_exists"
   ]
  },
  {
   "cell_type": "code",
   "execution_count": null,
   "metadata": {},
   "outputs": [],
   "source": [
    "road_exists = df.loc[:,\"ROADS\"]\n",
    "road_exists"
   ]
  },
  {
   "cell_type": "code",
   "execution_count": null,
   "metadata": {},
   "outputs": [],
   "source": [
    "no_of_pois = df.loc[:,\"POIs PER HEXAGON\"]\n",
    "no_of_pois"
   ]
  },
  {
   "cell_type": "code",
   "execution_count": null,
   "metadata": {},
   "outputs": [],
   "source": [
    "landcov_value = df.loc[:,\"LANDCOVER NUMERICAL\"]\n",
    "landcov_value"
   ]
  },
  {
   "cell_type": "code",
   "execution_count": null,
   "metadata": {},
   "outputs": [],
   "source": [
    "stormsurge_level = df.loc[:,\"STORM SURGE HAZARD LEVEL\"]\n",
    "stormsurge_level"
   ]
  },
  {
   "cell_type": "code",
   "execution_count": null,
   "metadata": {},
   "outputs": [],
   "source": [
    "flood_level = df.loc[:,\"FLOOD HAZARD LEVEL\"]\n",
    "flood_level"
   ]
  },
  {
   "cell_type": "code",
   "execution_count": null,
   "metadata": {},
   "outputs": [],
   "source": [
    "landslide_level = df.loc[:,\"LANDSLIDE HAZARD LEVEL\"]\n",
    "landslide_level"
   ]
  },
  {
   "cell_type": "markdown",
   "metadata": {},
   "source": [
    "## HCI Formula"
   ]
  },
  {
   "cell_type": "code",
   "execution_count": null,
   "metadata": {},
   "outputs": [],
   "source": [
    "# Function\n",
    "def HCI_calc (total_ai, yi, road_bi, POI_ci, landCov_di, hazard1_ei, hazard2_ei, hazard3_ei):\n",
    "    w_bi = 0.30\n",
    "    w_ci = 0.25\n",
    "    w_di = 0.30\n",
    "    w_ei = 0.15\n",
    "\n",
    "    a = total_ai - (total_ai*yi)\n",
    "    b = (POI_ci * w_ci) + (road_bi * w_bi) + (landCov_di*w_di) + (1/(hazard1_ei + 1*w_ei)) + (1/(hazard2_ei+1*w_ei)) + (1/(hazard3_ei+1*w_ei))\n",
    "    hci = (a*b)\n",
    "    \n",
    "    return hci"
   ]
  },
  {
   "cell_type": "code",
   "execution_count": null,
   "metadata": {},
   "outputs": [],
   "source": [
    "HCFAI = HCI_calc(pop_den, rhu_exists, road_exists, no_of_pois, landcov_value, stormsurge_level, flood_level, landslide_level)"
   ]
  },
  {
   "cell_type": "code",
   "execution_count": null,
   "metadata": {},
   "outputs": [],
   "source": [
    "df['HCFAI'] = HCFAI\n",
    "df"
   ]
  }
 ],
 "metadata": {
  "kernelspec": {
   "display_name": "Python 3",
   "language": "python",
   "name": "python3"
  },
  "language_info": {
   "codemirror_mode": {
    "name": "ipython",
    "version": 3
   },
   "file_extension": ".py",
   "mimetype": "text/x-python",
   "name": "python",
   "nbconvert_exporter": "python",
   "pygments_lexer": "ipython3",
   "version": "3.9.12"
  },
  "vscode": {
   "interpreter": {
    "hash": "ed35363951684cc8cb25bea4f6d9fa10a8783202cfddd4ffcb886c6e34f6b004"
   }
  }
 },
 "nbformat": 4,
 "nbformat_minor": 5
}
