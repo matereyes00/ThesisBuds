{
 "cells": [
  {
   "cell_type": "code",
   "execution_count": 2,
   "metadata": {},
   "outputs": [
    {
     "name": "stdout",
     "output_type": "stream",
     "text": [
      "hello world\n"
     ]
    }
   ],
   "source": [
    "print('hello world')"
   ]
  },
  {
   "cell_type": "code",
   "execution_count": 1,
   "metadata": {},
   "outputs": [],
   "source": [
    "import pandas as pd"
   ]
  },
  {
   "cell_type": "code",
   "execution_count": null,
   "metadata": {},
   "outputs": [],
   "source": [
    "df = pd.read_csv('FINAL SUPER.csv')\n",
    "print(df)"
   ]
  },
  {
   "cell_type": "markdown",
   "metadata": {},
   "source": [
    "## Get columns"
   ]
  },
  {
   "cell_type": "code",
   "execution_count": null,
   "metadata": {},
   "outputs": [],
   "source": [
    "pop_den = df.loc[:,\"POPULATION DENSITY PER HEXAGON\"]\n",
    "pop_den"
   ]
  },
  {
   "cell_type": "code",
   "execution_count": null,
   "id": "6e4a6b3d",
   "metadata": {},
   "outputs": [],
   "source": [
    "rhu_exists = df.loc[:,\"RHU\"]\n",
    "rhu_exists"
   ]
  },
  {
   "cell_type": "code",
   "execution_count": null,
   "id": "c34b7cd8",
   "metadata": {},
   "outputs": [],
   "source": [
    "road_exists = df.loc[:,\"ROADS\"]\n",
    "road_exists"
   ]
  },
  {
   "cell_type": "code",
   "execution_count": null,
   "id": "4a0cc07c",
   "metadata": {},
   "outputs": [],
   "source": [
    "no_of_pois = df.loc[:,\"POIs PER HEXAGON\"]\n",
    "no_of_pois"
   ]
  },
  {
   "cell_type": "code",
   "execution_count": null,
   "id": "b1735fdb",
   "metadata": {},
   "outputs": [],
   "source": [
    "landcov_value = df.loc[:,\"LANDCOVER NUMERICAL\"]\n",
    "landcov_value"
   ]
  },
  {
   "cell_type": "code",
   "execution_count": null,
   "id": "5e526e88",
   "metadata": {},
   "outputs": [],
   "source": [
    "stormsurge_level = df.loc[:,\"STORM SURGE HAZARD LEVEL\"]\n",
    "stormsurge_level"
   ]
  },
  {
   "cell_type": "code",
   "execution_count": null,
   "id": "c833d7fc",
   "metadata": {},
   "outputs": [],
   "source": [
    "flood_level = df.loc[:,\"FLOOD HAZARD LEVEL\"]\n",
    "flood_level"
   ]
  },
  {
   "cell_type": "code",
   "execution_count": null,
   "id": "8124fbe3",
   "metadata": {},
   "outputs": [],
   "source": [
    "landslide_level = df.loc[:,\"LANDSLIDE HAZARD LEVEL\"]\n",
    "landslide_level"
   ]
  },
  {
   "cell_type": "markdown",
   "metadata": {},
   "source": [
    "## HCI Formula"
   ]
  },
  {
   "cell_type": "code",
   "execution_count": null,
   "id": "eea8185b",
   "metadata": {},
   "outputs": [],
   "source": [
    "#a = total_ai - (total_ai*yi)\n",
    "# b = ((road_bi * w_bi) + (POI_ci * w_ci) + (landCov_di*w_di))\n",
    "# c = ((hazard1_ei + hazard2_ei + hazard3_ei)/3) * w_ei\n",
    "#    hci = (a*b)/c"
   ]
  },
  {
   "cell_type": "code",
   "execution_count": 21,
   "id": "3a983836",
   "metadata": {},
   "outputs": [],
   "source": [
    "# Function\n",
    "def HCI_calc (total_ai, yi, road_bi, POI_ci, landCov_di, hazard1_ei, hazard2_ei, hazard3_ei):\n",
    "    w_bi = 0.30\n",
    "    w_ci = 0.25\n",
    "    w_di = 0.30\n",
    "    w_ei = 0.15\n",
    "\n",
    "    a = total_ai - (total_ai*yi)\n",
    "    b = (POI_ci * w_ci) + (road_bi * w_bi) + (landCov_di*w_di) + (1/(hazard1_ei + 1*w_ei)) + (1/(hazard2_ei+1*w_ei)) + (1/(hazard3_ei+1*w_ei))\n",
    "    hci = (a*b)\n",
    "    \n",
    "    return hci"
   ]
  },
  {
   "cell_type": "code",
   "execution_count": 23,
   "id": "f4bd4102",
   "metadata": {},
   "outputs": [],
   "source": [
    "HCFAI = HCI_calc(pop_den, rhu_exists, road_exists, no_of_pois, landcov_value, stormsurge_level, flood_level, landslide_level)"
   ]
  },
  {
   "cell_type": "code",
   "execution_count": null,
   "id": "f52ae3de",
   "metadata": {},
   "outputs": [],
   "source": [
    "df['HCFAI'] = HCFAI\n",
    "df"
   ]
  },
  {
   "cell_type": "markdown",
   "id": "bd6a7abd",
   "metadata": {},
   "source": [
    "scratch area below"
   ]
  },
  {
   "cell_type": "code",
   "execution_count": 57,
   "metadata": {},
   "outputs": [
    {
     "ename": "NameError",
     "evalue": "name 'total_ai' is not defined",
     "output_type": "error",
     "traceback": [
      "\u001b[1;31m---------------------------------------------------------------------------\u001b[0m",
      "\u001b[1;31mNameError\u001b[0m                                 Traceback (most recent call last)",
      "\u001b[1;32mc:\\Users\\Carmina Atienza\\Documents\\GitHub\\ThesisBuds\\Jupyter Notebooks\\HCI Computations.ipynb Cell 16\u001b[0m in \u001b[0;36m<cell line: 1>\u001b[1;34m()\u001b[0m\n\u001b[1;32m----> <a href='vscode-notebook-cell:/c%3A/Users/Carmina%20Atienza/Documents/GitHub/ThesisBuds/Jupyter%20Notebooks/HCI%20Computations.ipynb#X10sZmlsZQ%3D%3D?line=0'>1</a>\u001b[0m HCI \u001b[39m=\u001b[39m total_ai \u001b[39m-\u001b[39m (total_ai)\u001b[39m*\u001b[39m(yi)\n",
      "\u001b[1;31mNameError\u001b[0m: name 'total_ai' is not defined"
     ]
    }
   ],
   "source": [
    "HCI = total_ai - (total_ai)*(yi)"
   ]
  },
  {
   "cell_type": "code",
   "execution_count": null,
   "metadata": {
    "collapsed": true
   },
   "outputs": [],
   "source": [
    "# creating a list of dataframe columns\n",
    "pop_den_list = list(pop_den)\n",
    "\n",
    "i = 0\n",
    "for i in pop_den_list:\n",
    "    # printing a third element of column\n",
    "    print(i)"
   ]
  },
  {
   "cell_type": "code",
   "execution_count": null,
   "metadata": {
    "collapsed": true
   },
   "outputs": [],
   "source": [
    "# creating a list of dataframe columns\n",
    "rhu_in_area_list = list(rhu_in_area)\n",
    "\n",
    "for i in rhu_in_area_list:\n",
    "    # printing a third element of column\n",
    "    print(i)"
   ]
  },
  {
   "cell_type": "code",
   "execution_count": null,
   "metadata": {},
   "outputs": [],
   "source": [
    "def calc_HCI(total_ai, yi):\n",
    "    HCI = total_ai - (total_ai)*(yi)\n",
    "    return HCI"
   ]
  },
  {
   "cell_type": "code",
   "execution_count": null,
   "metadata": {},
   "outputs": [],
   "source": [
    "for i in range(150-1):\n",
    "    print(calc_HCI(pop_den_list[i],rhu_in_area_list[i]))"
   ]
  },
  {
   "cell_type": "markdown",
   "metadata": {},
   "source": [
    "# Formula Revisions"
   ]
  },
  {
   "cell_type": "code",
   "execution_count": null,
   "metadata": {},
   "outputs": [],
   "source": [
    "total_ai = 151\n",
    "yi = 0\n",
    "road_bi = 1\n",
    "POI_ci = 0\n",
    "landCov_di = 1\n",
    "hazard_ei = 2"
   ]
  },
  {
   "cell_type": "code",
   "execution_count": null,
   "metadata": {},
   "outputs": [],
   "source": [
    "w_ai = 0.5\n",
    "w_bi = 0.1\n",
    "w_ci = 0.1\n",
    "w_di = 0.2\n",
    "w_ei = 0.1"
   ]
  },
  {
   "cell_type": "code",
   "execution_count": null,
   "metadata": {
    "scrolled": false
   },
   "outputs": [],
   "source": [
    "HCI = ( total_ai - (total_ai)*(yi) ) * ( (road_bi)*(w_bi) + (POI_ci)*(w_ci) + (landCov_di)*(w_di) ) / ( 1 / (hazard_ei)*(w_ei) )"
   ]
  },
  {
   "cell_type": "code",
   "execution_count": null,
   "metadata": {},
   "outputs": [],
   "source": [
    "# HCI_weightless = ( total_ai - (total_ai)*(yi) ) * ( (road_bi) + (POI_ci) + (landCov_di) ) / ( 1 / (hazard_ei) )"
   ]
  },
  {
   "cell_type": "code",
   "execution_count": null,
   "metadata": {},
   "outputs": [],
   "source": [
    "# HCI_weightless"
   ]
  },
  {
   "cell_type": "code",
   "execution_count": null,
   "metadata": {},
   "outputs": [],
   "source": [
    "HCI"
   ]
  },
  {
   "cell_type": "code",
   "execution_count": null,
   "metadata": {},
   "outputs": [],
   "source": [
    "# Function\n",
    "def HCI_calc (total_ai, yi, road_bi, POI_ci, landCov_di, hazard_ei):\n",
    "    w_bi = 0.30\n",
    "    w_ci = 0.25\n",
    "    w_di = 0.30\n",
    "    w_ei = 0.15\n",
    "    hci = ( total_ai - (total_ai)*(yi) ) * ( (road_bi)*(w_bi) + (POI_ci)*(w_ci) + (landCov_di)*(w_di) ) / ( 1 / (hazard_ei)*(w_ei) )"
   ]
  }
 ],
 "metadata": {
  "kernelspec": {
   "display_name": "Python 3.9.12 ('base')",
   "language": "python",
   "name": "python3"
  },
  "language_info": {
   "codemirror_mode": {
    "name": "ipython",
    "version": 3
   },
   "file_extension": ".py",
   "mimetype": "text/x-python",
   "name": "python",
   "nbconvert_exporter": "python",
   "pygments_lexer": "ipython3",
   "version": "3.9.12"
  },
  "vscode": {
   "interpreter": {
    "hash": "ed35363951684cc8cb25bea4f6d9fa10a8783202cfddd4ffcb886c6e34f6b004"
   }
  }
 },
 "nbformat": 4,
 "nbformat_minor": 5
}
